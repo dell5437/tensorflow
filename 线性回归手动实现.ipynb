{
 "cells": [
  {
   "cell_type": "code",
   "execution_count": 2,
   "metadata": {},
   "outputs": [
    {
     "name": "stdout",
     "output_type": "stream",
     "text": [
      "2.3.0\n"
     ]
    }
   ],
   "source": [
    "%matplotlib inline\n",
    "import tensorflow as tf\n",
    "print(tf.__version__)\n",
    "from matplotlib import pyplot as plt\n",
    "import random"
   ]
  },
  {
   "cell_type": "code",
   "execution_count": 17,
   "metadata": {},
   "outputs": [],
   "source": [
    "num_inputs=2\n",
    "num_examples=1000\n",
    "fecture_true=[9,2]\n",
    "b_true=2.1\n",
    "features=tf.random.normal((num_examples,num_inputs),stddev=1.0)\n",
    "labels=features[:,0]*fecture_true[0]+features[:,1]*fecture_true[1]+b_true\n",
    "labels+=tf.random.normal(labels.shape,stddev=0.01)"
   ]
  },
  {
   "cell_type": "code",
   "execution_count": 18,
   "metadata": {},
   "outputs": [
    {
     "name": "stdout",
     "output_type": "stream",
     "text": [
      "tf.Tensor([-0.7534533  0.5714622], shape=(2,), dtype=float32) tf.Tensor(-3.5268826, shape=(), dtype=float32)\n"
     ]
    }
   ],
   "source": [
    "print(features[0],labels[0])"
   ]
  },
  {
   "cell_type": "code",
   "execution_count": 19,
   "metadata": {},
   "outputs": [
    {
     "data": {
      "text/plain": [
       "<matplotlib.collections.PathCollection at 0x1a470da3850>"
      ]
     },
     "execution_count": 19,
     "metadata": {},
     "output_type": "execute_result"
    },
    {
     "data": {
      "image/png": "[encoded data removed]",
      "text/plain": [
       "<Figure size 252x180 with 1 Axes>"
      ]
     },
     "metadata": {
      "needs_background": "light"
     },
     "output_type": "display_data"
    }
   ],
   "source": [
    "def set_figsize(figsize=(3.5, 2.5)):\n",
    "    plt.rcParams['figure.figsize'] = figsize\n",
    "\n",
    "set_figsize()\n",
    "plt.scatter(features[:,0], labels, 1)"
   ]
  },
  {
   "cell_type": "code",
   "execution_count": 26,
   "metadata": {},
   "outputs": [],
   "source": [
    "def data_iter(batchsize,features,labels):\n",
    "    num_examples=len(features)\n",
    "    indeics=list(range(num_examples))\n",
    "    random.shuffle(indeics)\n",
    "    for i in range(0,num_examples,batchsize):\n",
    "        j=indeics[i:min(num_examples,i+batchsize)]\n",
    "        yield tf.gather(features,axis=0,indices=j),tf.gather(labels,axis=0,indices =j)"
   ]
  },
  {
   "cell_type": "code",
   "execution_count": 27,
   "metadata": {},
   "outputs": [
    {
     "name": "stdout",
     "output_type": "stream",
     "text": [
      "tf.Tensor(\n",
      "[[ 0.2635311  -1.4295274 ]\n",
      " [ 0.2818123   0.62539995]\n",
      " [-0.40914607  0.2489844 ]\n",
      " [-0.7071993   1.2519915 ]\n",
      " [ 1.9165893   0.5637184 ]\n",
      " [-0.17017606  0.6126022 ]\n",
      " [ 0.61978114 -0.42497185]\n",
      " [-0.52479064  0.9005    ]\n",
      " [ 0.01098765 -1.9145757 ]\n",
      " [-3.0425913   1.2475793 ]], shape=(10, 2), dtype=float32) tf.Tensor(\n",
      "[  1.611297     5.8748164   -1.1060289   -1.7584549   20.490856\n",
      "   1.7910223    6.8098364   -0.83133674  -1.6344588  -22.778645  ], shape=(10,), dtype=float32)\n"
     ]
    }
   ],
   "source": [
    "batchsize=10\n",
    "for x,y in data_iter(batchsize,features,labels):\n",
    "    print(x,y)\n",
    "    break"
   ]
  },
  {
   "cell_type": "code",
   "execution_count": 28,
   "metadata": {},
   "outputs": [],
   "source": [
    "w=tf.Variable(tf.random.normal((num_inputs,1),stddev=0.01))\n",
    "b=tf.Variable(tf.zeros((1,)))"
   ]
  },
  {
   "cell_type": "code",
   "execution_count": 29,
   "metadata": {},
   "outputs": [],
   "source": [
    "def liner_func(x,w,b):\n",
    "    return tf.matmul(x,w)+b"
   ]
  },
  {
   "cell_type": "code",
   "execution_count": 30,
   "metadata": {},
   "outputs": [],
   "source": [
    "def squared_loss(y_,y):\n",
    "    return (y_-tf.reshape(y,y_.shape))**2/2"
   ]
  },
  {
   "cell_type": "code",
   "execution_count": 31,
   "metadata": {},
   "outputs": [],
   "source": [
    "def sgd(params, lr, batch_size, grads):\n",
    "    \"\"\"Mini-batch stochastic gradient descent.\"\"\"\n",
    "    for i, param in enumerate(params):\n",
    "        param.assign_sub(lr * grads[i] / batch_size)"
   ]
  },
  {
   "cell_type": "code",
   "execution_count": 34,
   "metadata": {},
   "outputs": [
    {
     "name": "stdout",
     "output_type": "stream",
     "text": [
      "epoch 1, loss 0.113762\n",
      "epoch 2, loss 0.000361\n",
      "epoch 3, loss 0.000048\n"
     ]
    }
   ],
   "source": [
    "lr = 0.03\n",
    "num_epochs = 3\n",
    "net = liner_func\n",
    "loss = squared_loss\n",
    "\n",
    "for epoch in range(num_epochs):\n",
    "    for X, y in data_iter(batchsize, features, labels):\n",
    "        with tf.GradientTape() as t:\n",
    "            t.watch([w,b])\n",
    "            l = tf.reduce_sum(loss(net(X, w, b), y))\n",
    "        grads = t.gradient(l, [w, b])\n",
    "        sgd([w, b], lr, batchsize, grads)\n",
    "    train_l = loss(net(features, w, b), labels)\n",
    "    print('epoch %d, loss %f' % (epoch + 1, tf.reduce_mean(train_l)))"
   ]
  },
  {
   "cell_type": "code",
   "execution_count": 35,
   "metadata": {},
   "outputs": [
    {
     "name": "stdout",
     "output_type": "stream",
     "text": [
      "[9, 2] <tf.Variable 'Variable:0' shape=(2, 1) dtype=float32, numpy=\n",
      "array([[8.998634 ],\n",
      "       [1.9999012]], dtype=float32)>\n"
     ]
    }
   ],
   "source": [
    "print(fecture_true,w)"
   ]
  },
  {
   "cell_type": "code",
   "execution_count": 36,
   "metadata": {},
   "outputs": [
    {
     "name": "stdout",
     "output_type": "stream",
     "text": [
      "2.1 <tf.Variable 'Variable:0' shape=(1,) dtype=float32, numpy=array([2.098986], dtype=float32)>\n"
     ]
    }
   ],
   "source": [
    "print(b_true,b)"
   ]
  },
  {
   "cell_type": "code",
   "execution_count": null,
   "metadata": {},
   "outputs": [],
   "source": []
  }
 ],
 "metadata": {
  "kernelspec": {
   "display_name": "Python 3",
   "language": "python",
   "name": "python3"
  },
  "language_info": {
   "codemirror_mode": {
    "name": "ipython",
    "version": 3
   },
   "file_extension": ".py",
   "mimetype": "text/x-python",
   "name": "python",
   "nbconvert_exporter": "python",
   "pygments_lexer": "ipython3",
   "version": "3.8.0"
  }
 },
 "nbformat": 4,
 "nbformat_minor": 4
}
